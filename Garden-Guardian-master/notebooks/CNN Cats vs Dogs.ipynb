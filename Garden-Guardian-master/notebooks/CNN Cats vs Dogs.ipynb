{
 "cells": [
  {
   "cell_type": "markdown",
   "metadata": {},
   "source": [
    "# Example of CNN Object detection\n",
    "- Purpose of this notebook is to be a reference for CNN Object Detection\n",
    "- We also want to be able to export the trained CNN parameters and hyper parameters into a data file so that we can run the CNN to detect objects\n",
    "\n",
    "## Other Notes\n",
    "- Using tensorflow and scikit-learn\n",
    "- Dataset of cats vs dogs from kaggle (https://www.kaggle.com/c/dogs-vs-cats/data)"
   ]
  },
  {
   "cell_type": "code",
   "execution_count": 38,
   "metadata": {},
   "outputs": [
    {
     "data": {
      "text/plain": [
       "0"
      ]
     },
     "execution_count": 38,
     "metadata": {},
     "output_type": "execute_result"
    }
   ],
   "source": [
    "# Preprocessing script to run to organize training and testing images into their respective directories\n",
    "# From extracting the dataset, we have the following data:\n",
    "# |-train/\n",
    "# |   |-(25000 files named cat.#.jpg and dog.#.jpg mixed together)\n",
    "# |-test1/\n",
    "# |   |-(images of cats and dogs named #.jpg)\n",
    "# -----------------------------------------------------------\n",
    "# We want to put the cat images and dog images in different directories in the train/ directory, like this:\n",
    "# |-train/\n",
    "# |   |-train/\n",
    "# |   |   |-dogs/\n",
    "# |   |   |   |-(80% of dog.[random number between 0 and 12499].jpg, of 10000 images)\n",
    "# |   |   |-cats/\n",
    "# |   |   |   |-(80% of cat.[random number between 0 and 12499].jpg, of 10000 images)\n",
    "# |   |-test/\n",
    "# |   |   |-dogs/\n",
    "# |   |   |   |-(20% of dog.[random number between 0 and 12499].jpg, of 2500 images)\n",
    "# |   |   |-cats/\n",
    "# |   |   |   |-(20% of cat.[random number between 0 and 12499].jpg, of 2500 images)\n",
    "# . . .\n",
    "# The python script here does that job: (only run it once after extracting the dataset for the first time)\n",
    "\n",
    "# Load the data\n",
    "# Guide from https://www.tensorflow.org/tutorials/images/classification\n",
    "import os\n",
    "import random\n",
    "\n",
    "PATH = os.path.join(os.path.dirname(os.path.realpath('../datasets/')), 'datasets/dogsvscats/')\n",
    "parent_dir = os.path.join(PATH, 'train')\n",
    "train_dir = os.path.join(parent_dir, 'train')\n",
    "test_dir = os.path.join(parent_dir, 'test') \n",
    "train_dogs_dir = os.path.join(train_dir, 'dogs') \n",
    "train_cats_dir = os.path.join(train_dir, 'cats')  \n",
    "test_dogs_dir = os.path.join(test_dir, 'dogs') \n",
    "test_cats_dir = os.path.join(test_dir, 'cats')  \n",
    "\n",
    "# Create training directories\n",
    "if not os.path.exists(train_dir):\n",
    "    os.mkdir(train_dir)\n",
    "if not os.path.exists(test_dir):\n",
    "    os.mkdir(test_dir)\n",
    "if not os.path.exists(train_dogs_dir):\n",
    "    os.mkdir(train_dogs_dir)\n",
    "if not os.path.exists(train_cats_dir):\n",
    "    os.mkdir(train_cats_dir)\n",
    "if not os.path.exists(test_dogs_dir):\n",
    "    os.mkdir(test_dogs_dir)\n",
    "if not os.path.exists(test_cats_dir):\n",
    "    os.mkdir(test_cats_dir)\n",
    "\n",
    "# Move random images in their respective locations\n",
    "counting_index = 0\n",
    "\n",
    "# Move 5000 random images to test directory (2500 * 2 = 5000)\n",
    "while counting_index < 2500:\n",
    "    img_index = random.randint(0, 12499)\n",
    "    dog_img_filename = 'dog.' + str(img_index) + '.jpg'\n",
    "    cat_img_filename = 'cat.' + str(img_index) + '.jpg'\n",
    "    dog_img_path = os.path.join(parent_dir, dog_img_filename)\n",
    "    cat_img_path = os.path.join(parent_dir, cat_img_filename)\n",
    "    \n",
    "    if os.path.exists(dog_img_path) and os.path.exists(cat_img_path):\n",
    "        os.rename(dog_img_path, os.path.join(test_dogs_dir, dog_img_filename))\n",
    "        os.rename(cat_img_path, os.path.join(test_cats_dir, cat_img_filename))\n",
    "        counting_index += 1\n",
    "\n",
    "# Move the rest of the files in their respecive train directories\n",
    "os.system('mv ' + parent_dir + '/cat.*.jpg ' + train_cats_dir + '/')\n",
    "os.system('mv ' + parent_dir + '/dog.*.jpg ' + train_dogs_dir + '/')\n",
    "\n",
    "\n",
    "    "
   ]
  },
  {
   "cell_type": "code",
   "execution_count": 22,
   "metadata": {},
   "outputs": [],
   "source": [
    "# Import necessary Python, sklearn and/or tensorflow/keras modules for loading the dataset\n",
    "import tensorflow\n",
    "from tensorflow.keras.preprocessing.image import ImageDataGenerator\n",
    "import os\n",
    "import matplotlib.pyplot as plt\n",
    "\n"
   ]
  },
  {
   "cell_type": "code",
   "execution_count": null,
   "metadata": {},
   "outputs": [],
   "source": []
  }
 ],
 "metadata": {
  "kernelspec": {
   "display_name": "Python 3",
   "language": "python",
   "name": "python3"
  },
  "language_info": {
   "codemirror_mode": {
    "name": "ipython",
    "version": 3
   },
   "file_extension": ".py",
   "mimetype": "text/x-python",
   "name": "python",
   "nbconvert_exporter": "python",
   "pygments_lexer": "ipython3",
   "version": "3.7.3"
  }
 },
 "nbformat": 4,
 "nbformat_minor": 2
}
