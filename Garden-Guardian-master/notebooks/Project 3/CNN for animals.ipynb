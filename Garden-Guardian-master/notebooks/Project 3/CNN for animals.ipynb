{
 "cells": [
  {
   "cell_type": "code",
   "execution_count": 1,
   "metadata": {},
   "outputs": [
    {
     "name": "stderr",
     "output_type": "stream",
     "text": [
      "Using TensorFlow backend.\n"
     ]
    },
    {
     "name": "stdout",
     "output_type": "stream",
     "text": [
      "Model: \"sequential_1\"\n",
      "_________________________________________________________________\n",
      "Layer (type)                 Output Shape              Param #   \n",
      "=================================================================\n",
      "conv2d_1 (Conv2D)            (None, 32, 32, 32)        896       \n",
      "_________________________________________________________________\n",
      "conv2d_2 (Conv2D)            (None, 32, 32, 32)        9248      \n",
      "_________________________________________________________________\n",
      "max_pooling2d_1 (MaxPooling2 (None, 16, 16, 32)        0         \n",
      "_________________________________________________________________\n",
      "dropout_1 (Dropout)          (None, 16, 16, 32)        0         \n",
      "_________________________________________________________________\n",
      "conv2d_3 (Conv2D)            (None, 16, 16, 64)        18496     \n",
      "_________________________________________________________________\n",
      "conv2d_4 (Conv2D)            (None, 16, 16, 64)        36928     \n",
      "_________________________________________________________________\n",
      "max_pooling2d_2 (MaxPooling2 (None, 8, 8, 64)          0         \n",
      "_________________________________________________________________\n",
      "dropout_2 (Dropout)          (None, 8, 8, 64)          0         \n",
      "_________________________________________________________________\n",
      "flatten_1 (Flatten)          (None, 4096)              0         \n",
      "_________________________________________________________________\n",
      "dense_1 (Dense)              (None, 512)               2097664   \n",
      "_________________________________________________________________\n",
      "dropout_3 (Dropout)          (None, 512)               0         \n",
      "_________________________________________________________________\n",
      "dense_2 (Dense)              (None, 10)                5130      \n",
      "=================================================================\n",
      "Total params: 2,168,362\n",
      "Trainable params: 2,168,362\n",
      "Non-trainable params: 0\n",
      "_________________________________________________________________\n"
     ]
    }
   ],
   "source": [
    "import matplotlib.pyplot as plt\n",
    "%matplotlib inline\n",
    "import keras\n",
    "from skimage.transform import resize\n",
    "import numpy as np\n",
    "from keras.models import Sequential\n",
    "from keras.layers import Dense, Dropout, Flatten, Conv2D, MaxPooling2D\n",
    "\n",
    "#Load dataset\n",
    "from keras.datasets import cifar10\n",
    "(x_train, y_train), (x_test, y_test) = cifar10.load_data()\n",
    "x_train = x_train.astype('float32')\n",
    "x_test = x_test.astype('float32')\n",
    "x_train = x_train / 255\n",
    "x_test = x_test / 255\n",
    "\n",
    "#Create convolutional neural network\n",
    "model = Sequential()\n",
    "model.add(Conv2D(32, (3, 3), activation='relu', padding='same', input_shape=(32,32,3)))\n",
    "model.add(Conv2D(32, (3, 3), activation='relu', padding='same'))\n",
    "model.add(MaxPooling2D(pool_size=(2, 2)))\n",
    "model.add(Dropout(0.25))\n",
    "model.add(Conv2D(64, (3, 3), activation='relu', padding='same'))\n",
    "model.add(Conv2D(64, (3, 3), activation='relu', padding='same'))\n",
    "model.add(MaxPooling2D(pool_size=(2, 2)))\n",
    "model.add(Dropout(0.25))\n",
    "model.add(Flatten())\n",
    "model.add(Dense(512, activation='relu'))\n",
    "model.add(Dropout(0.5))\n",
    "model.add(Dense(10, activation='softmax'))\n",
    "model.summary()\n"
   ]
  },
  {
   "cell_type": "code",
   "execution_count": 2,
   "metadata": {},
   "outputs": [
    {
     "name": "stdout",
     "output_type": "stream",
     "text": [
      "x_train shape: (50000, 32, 32, 3)\n"
     ]
    }
   ],
   "source": [
    "#Shape of input feature array\n",
    "print('x_train shape:', x_train.shape)"
   ]
  },
  {
   "cell_type": "code",
   "execution_count": 3,
   "metadata": {},
   "outputs": [
    {
     "name": "stdout",
     "output_type": "stream",
     "text": [
      "y_train shape: (50000, 1)\n"
     ]
    }
   ],
   "source": [
    "#shape of label array\n",
    "print('y_train shape:', y_train.shape)"
   ]
  },
  {
   "cell_type": "code",
   "execution_count": 4,
   "metadata": {},
   "outputs": [],
   "source": [
    "#one hot encoding to check what class image belongs to\n",
    "y_train_one_hot = keras.utils.to_categorical(y_train, 10)\n",
    "y_test_one_hot = keras.utils.to_categorical(y_test, 10)"
   ]
  },
  {
   "cell_type": "code",
   "execution_count": 5,
   "metadata": {},
   "outputs": [
    {
     "name": "stdout",
     "output_type": "stream",
     "text": [
      "Train on 40000 samples, validate on 10000 samples\n",
      "Epoch 1/20\n",
      "40000/40000 [==============================] - 206s 5ms/step - loss: 1.5849 - accuracy: 0.4206 - val_loss: 1.2097 - val_accuracy: 0.5767\n",
      "Epoch 2/20\n",
      "40000/40000 [==============================] - 204s 5ms/step - loss: 1.1501 - accuracy: 0.5877 - val_loss: 0.9953 - val_accuracy: 0.6534\n",
      "Epoch 3/20\n",
      "40000/40000 [==============================] - 203s 5ms/step - loss: 0.9983 - accuracy: 0.6456 - val_loss: 0.8992 - val_accuracy: 0.6802\n",
      "Epoch 4/20\n",
      "40000/40000 [==============================] - 27673s 692ms/step - loss: 0.9098 - accuracy: 0.6791 - val_loss: 0.8276 - val_accuracy: 0.7079\n",
      "Epoch 5/20\n",
      "40000/40000 [==============================] - 212s 5ms/step - loss: 0.8332 - accuracy: 0.7075 - val_loss: 0.7744 - val_accuracy: 0.7312\n",
      "Epoch 6/20\n",
      "40000/40000 [==============================] - 215s 5ms/step - loss: 0.7779 - accuracy: 0.7268 - val_loss: 0.7380 - val_accuracy: 0.7463\n",
      "Epoch 7/20\n",
      "40000/40000 [==============================] - 218s 5ms/step - loss: 0.7388 - accuracy: 0.7391 - val_loss: 0.7514 - val_accuracy: 0.7362\n",
      "Epoch 8/20\n",
      "40000/40000 [==============================] - 832s 21ms/step - loss: 0.6999 - accuracy: 0.7532 - val_loss: 0.7065 - val_accuracy: 0.7557\n",
      "Epoch 9/20\n",
      "40000/40000 [==============================] - 211s 5ms/step - loss: 0.6621 - accuracy: 0.7661 - val_loss: 0.7479 - val_accuracy: 0.7496\n",
      "Epoch 10/20\n",
      "40000/40000 [==============================] - 208s 5ms/step - loss: 0.6213 - accuracy: 0.7788 - val_loss: 0.7049 - val_accuracy: 0.7610\n",
      "Epoch 11/20\n",
      "40000/40000 [==============================] - 207s 5ms/step - loss: 0.6062 - accuracy: 0.7847 - val_loss: 0.6900 - val_accuracy: 0.7622\n",
      "Epoch 12/20\n",
      "40000/40000 [==============================] - 204s 5ms/step - loss: 0.5799 - accuracy: 0.7976 - val_loss: 0.7309 - val_accuracy: 0.7511\n",
      "Epoch 13/20\n",
      "40000/40000 [==============================] - 205s 5ms/step - loss: 0.5584 - accuracy: 0.8026 - val_loss: 0.6884 - val_accuracy: 0.7732\n",
      "Epoch 14/20\n",
      "40000/40000 [==============================] - 203s 5ms/step - loss: 0.5408 - accuracy: 0.8083 - val_loss: 0.6989 - val_accuracy: 0.7693\n",
      "Epoch 15/20\n",
      "40000/40000 [==============================] - 202s 5ms/step - loss: 0.5206 - accuracy: 0.8155 - val_loss: 0.7291 - val_accuracy: 0.7582\n",
      "Epoch 16/20\n",
      "40000/40000 [==============================] - 158s 4ms/step - loss: 0.5034 - accuracy: 0.8240 - val_loss: 0.7002 - val_accuracy: 0.7762\n",
      "Epoch 17/20\n",
      "40000/40000 [==============================] - 165s 4ms/step - loss: 0.4946 - accuracy: 0.8252 - val_loss: 0.6816 - val_accuracy: 0.7809\n",
      "Epoch 18/20\n",
      "40000/40000 [==============================] - 167s 4ms/step - loss: 0.4733 - accuracy: 0.8319 - val_loss: 0.6764 - val_accuracy: 0.7768\n",
      "Epoch 19/20\n",
      "40000/40000 [==============================] - 385s 10ms/step - loss: 0.4568 - accuracy: 0.8378 - val_loss: 0.7519 - val_accuracy: 0.7666\n",
      "Epoch 20/20\n",
      "40000/40000 [==============================] - 169s 4ms/step - loss: 0.4513 - accuracy: 0.8408 - val_loss: 0.7093 - val_accuracy: 0.7765\n"
     ]
    }
   ],
   "source": [
    "#compile model\n",
    "model.compile(loss='categorical_crossentropy',\n",
    "              optimizer='adam',\n",
    "              metrics=['accuracy'])\n",
    "#run training\n",
    "hist = model.fit(x_train, y_train_one_hot, \n",
    "           batch_size=32, epochs=20, \n",
    "           validation_split=0.2)"
   ]
  },
  {
   "cell_type": "code",
   "execution_count": 6,
   "metadata": {},
   "outputs": [
    {
     "data": {
      "image/png": "[encoded data removed]",
      "text/plain": [
       "<Figure size 432x288 with 1 Axes>"
      ]
     },
     "metadata": {
      "needs_background": "light"
     },
     "output_type": "display_data"
    }
   ],
   "source": [
    "plt.plot(hist.history['loss'])\n",
    "plt.plot(hist.history['val_loss'])\n",
    "plt.title('Model loss')\n",
    "plt.ylabel('Loss')\n",
    "plt.xlabel('Epoch')\n",
    "plt.legend(['Train', 'Val'], loc='upper right')\n",
    "plt.show()\n"
   ]
  },
  {
   "cell_type": "code",
   "execution_count": 7,
   "metadata": {},
   "outputs": [
    {
     "data": {
      "image/png": "[encoded data removed]",
      "text/plain": [
       "<Figure size 432x288 with 1 Axes>"
      ]
     },
     "metadata": {
      "needs_background": "light"
     },
     "output_type": "display_data"
    }
   ],
   "source": [
    "plt.plot(hist.history['accuracy'])\n",
    "plt.plot(hist.history['val_accuracy'])\n",
    "plt.title('Model accuracy')\n",
    "plt.ylabel('Accuracy')\n",
    "plt.xlabel('Epoch')\n",
    "plt.legend(['Train', 'Val'], loc='lower right')\n",
    "plt.show()"
   ]
  },
  {
   "cell_type": "code",
   "execution_count": 11,
   "metadata": {},
   "outputs": [],
   "source": [
    "#save model\n",
    "model.save('my_cifar10_model.h5')"
   ]
  },
  {
   "cell_type": "code",
   "execution_count": 12,
   "metadata": {},
   "outputs": [],
   "source": [
    "#read in image and resize\n",
    "my_image = plt.imread(\"cat.jpg\")\n",
    "my_image_resized = resize(my_image, (32,32,3))"
   ]
  },
  {
   "cell_type": "code",
   "execution_count": 13,
   "metadata": {},
   "outputs": [
    {
     "data": {
      "image/png": "[encoded data removed]",
      "text/plain": [
       "<Figure size 432x288 with 1 Axes>"
      ]
     },
     "metadata": {
      "needs_background": "light"
     },
     "output_type": "display_data"
    }
   ],
   "source": [
    "img = plt.imshow(my_image_resized)"
   ]
  },
  {
   "cell_type": "code",
   "execution_count": 14,
   "metadata": {},
   "outputs": [
    {
     "data": {
      "text/plain": [
       "array([[1.2631408e-05, 1.0468762e-12, 3.0079836e-04, 9.8304635e-01,\n",
       "        1.4735580e-03, 1.5086506e-02, 5.6351440e-05, 2.3828024e-05,\n",
       "        2.2015000e-08, 3.6681100e-09]], dtype=float32)"
      ]
     },
     "execution_count": 14,
     "metadata": {},
     "output_type": "execute_result"
    }
   ],
   "source": [
    "#probablility prediction\n",
    "probabilities = model.predict(np.array( [my_image_resized,] ))\n",
    "probabilities"
   ]
  },
  {
   "cell_type": "code",
   "execution_count": 15,
   "metadata": {},
   "outputs": [
    {
     "name": "stdout",
     "output_type": "stream",
     "text": [
      "Most likely class: cat -- Probability: 0.98304635\n",
      "Second most likely class: dog -- Probability: 0.015086506\n",
      "Third most likely class: deer -- Probability: 0.001473558\n"
     ]
    }
   ],
   "source": [
    "number_to_class = ['airplane', 'automobile', 'bird', 'cat', 'deer', 'dog', 'frog', 'horse', 'ship', 'truck']\n",
    "index = np.argsort(probabilities[0,:])\n",
    "print(\"Most likely class:\", number_to_class[index[9]], \"-- Probability:\", probabilities[0,index[9]])\n",
    "print(\"Second most likely class:\", number_to_class[index[8]], \"-- Probability:\", probabilities[0,index[8]])\n",
    "print(\"Third most likely class:\", number_to_class[index[7]], \"-- Probability:\", probabilities[0,index[7]])"
   ]
  },
  {
   "cell_type": "code",
   "execution_count": 17,
   "metadata": {},
   "outputs": [
    {
     "data": {
      "image/png": "[encoded data removed]",
      "text/plain": [
       "<Figure size 432x288 with 1 Axes>"
      ]
     },
     "metadata": {
      "needs_background": "light"
     },
     "output_type": "display_data"
    }
   ],
   "source": [
    "my_image = plt.imread(\"dog.png\")\n",
    "my_image_resized = resize(my_image, (32,32,3))\n",
    "img = plt.imshow(my_image_resized)"
   ]
  },
  {
   "cell_type": "code",
   "execution_count": 18,
   "metadata": {},
   "outputs": [
    {
     "data": {
      "text/plain": [
       "array([[9.4642329e-11, 9.3992645e-09, 1.9462584e-06, 3.3711314e-09,\n",
       "        2.3945193e-13, 9.9999726e-01, 3.1823523e-11, 8.7787589e-07,\n",
       "        8.7942761e-13, 3.2530961e-10]], dtype=float32)"
      ]
     },
     "execution_count": 18,
     "metadata": {},
     "output_type": "execute_result"
    }
   ],
   "source": [
    "probabilities = model.predict(np.array( [my_image_resized,] ))\n",
    "probabilities"
   ]
  },
  {
   "cell_type": "code",
   "execution_count": 19,
   "metadata": {},
   "outputs": [
    {
     "name": "stdout",
     "output_type": "stream",
     "text": [
      "Most likely class: dog -- Probability: 0.99999726\n",
      "Second most likely class: bird -- Probability: 1.9462584e-06\n",
      "Third most likely class: horse -- Probability: 8.778759e-07\n"
     ]
    }
   ],
   "source": [
    "number_to_class = ['airplane', 'automobile', 'bird', 'cat', 'deer', 'dog', 'frog', 'horse', 'ship', 'truck']\n",
    "index = np.argsort(probabilities[0,:])\n",
    "print(\"Most likely class:\", number_to_class[index[9]], \"-- Probability:\", probabilities[0,index[9]])\n",
    "print(\"Second most likely class:\", number_to_class[index[8]], \"-- Probability:\", probabilities[0,index[8]])\n",
    "print(\"Third most likely class:\", number_to_class[index[7]], \"-- Probability:\", probabilities[0,index[7]])"
   ]
  },
  {
   "cell_type": "code",
   "execution_count": null,
   "metadata": {},
   "outputs": [],
   "source": []
  }
 ],
 "metadata": {
  "kernelspec": {
   "display_name": "Python 3",
   "language": "python",
   "name": "python3"
  },
  "language_info": {
   "codemirror_mode": {
    "name": "ipython",
    "version": 3
   },
   "file_extension": ".py",
   "mimetype": "text/x-python",
   "name": "python",
   "nbconvert_exporter": "python",
   "pygments_lexer": "ipython3",
   "version": "3.7.3"
  }
 },
 "nbformat": 4,
 "nbformat_minor": 2
}
